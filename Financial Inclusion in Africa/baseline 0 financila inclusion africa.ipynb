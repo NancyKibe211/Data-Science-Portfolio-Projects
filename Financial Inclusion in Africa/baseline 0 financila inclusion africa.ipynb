{
 "cells": [
  {
   "cell_type": "markdown",
   "metadata": {},
   "source": [
    "# Financial Inclusion In Africa\n",
    "- Predict who in Africa is most likely to have a bank account\n",
    "- The **evaluation metric** for this challenge is **Mean Absolute error**, where 1 indicates that the individual does have a bank account and 0 indicates that they do not.\n",
    "- You are asked to predict the likelihood of the person having a bank account or not (Yes = 1, No = 0), for each unique id in the test dataset . You will train your model on 70% of the data and test your model on the final 30% of the data, across four East African countries - Kenya, Rwanda, Tanzania, and Uganda.\n",
    "### Variable Definition\n",
    "- *country*: Country interviewee is in\n",
    "- *year* : Year survey was done in\n",
    "- *uniqueid* : Unique identifier each for interviewee\n",
    "- *location_type* : Type of location: Rural, Urban\n",
    "- *cellphone_acces* : If interviewee has access to a cellphone:Yes,No\n",
    "- _household_size_ : Number of people living in one house\n",
    "- *age_of_respondent* : The  age of the interviewee\n",
    "- *gender_of_respondent* : Gender of interviewee: Male,Female\n",
    "- *relationship_with_head* : The interviewee's relationship with the head of the house:Head of Household ,Spouse ,Child, Parent, Other relative, Other non-relative, Dont know\n",
    "- *marital_status* : The martial status of the interviewee: Married/Living together, Divorced/Seperated, Widowed, Single/Never Married ,Don't know\n",
    "- *education_level* : Highest level of education:No formal education, Primary education, Secondary education, Vational/Specialised training, Tertiary education, Other/Dont know/RTA\n",
    "- *job_type* :Type of jobs interviewee has: Farmong and Fishing, Self employed, Formally employed Goverment, Formally employed, Remittance Dependent, Goverment Dependent, Other Income, No Income, Dont Know/Refuse to answer\n",
    "### How to get the Data\n",
    "- The data was downloaded from Zindi.africa web site  \n",
    "https://zindi.africa/competitons/financial-inclusion-in-africa/data"
   ]
  },
  {
   "cell_type": "code",
   "execution_count": null,
   "metadata": {},
   "outputs": [],
   "source": []
  },
  {
   "cell_type": "markdown",
   "metadata": {},
   "source": [
    "# Table of content\n",
    "<a class='nkybz' id='TOC'></a>\n",
    "1. [Importing libraries](#1)\n",
    "1. [loading Data](#2)\n",
    "1. [breif look at all the data](#3)\n",
    "1. [Encoding](#4)\n",
    "1. [Handling Missing value](#5)<br>\n",
    "    [5.1 Explore](#5.1)\n",
    "1. [Handling Outliers](#6)\n",
    "1. [TransFormation](#7)\n",
    "1. [Feature Engineering](#8)\n",
    "1. [Feature Selection](#9)\n",
    "1. [model Prep](#10)\n",
    "1. [Feature Importance](#11)\n",
    "1. [Modeling](#12)\n",
    "1. [Ensemble](#13)"
   ]
  },
  {
   "cell_type": "markdown",
   "metadata": {},
   "source": [
    "# Importing libraries <a class='nkybz' id='1'></a>\n",
    "[Back to Table of Content](#TOC)"
   ]
  },
  {
   "cell_type": "code",
   "execution_count": 3,
   "metadata": {},
   "outputs": [],
   "source": [
    "import pandas as pd\n",
    "import numpy as np\n",
    "import seaborn as sns\n",
    "import matplotlib.pyplot as plt\n",
    "\n",
    "import statsmodels.api as sm\n",
    "#sns.set(style=\"darkgrid\")\n",
    "sns.set(style=\"whitegrid\")\n",
    "\n",
    "import warnings\n",
    "warnings.filterwarnings(\"ignore\")\n",
    "pd.set_option('display.max_columns', 200)\n",
    "pd.set_option('display.max_colwidth', 150)"
   ]
  },
  {
   "cell_type": "markdown",
   "metadata": {},
   "source": [
    "# 2.Loading Data <a class='nkybz' id='2'></a>\n",
    "[Back to Table of Content](#TOC)"
   ]
  },
  {
   "cell_type": "code",
   "execution_count": 4,
   "metadata": {},
   "outputs": [],
   "source": [
    "train = pd.read_csv('Data/Train_v2.csv')\n",
    "test = pd.read_csv('Data/Test_v2.csv')\n",
    "#sub = pd.read_csv('Data/SampleSubmission.csv')\n",
    "train['uniqueid'] = train['uniqueid']+str(' x ')+train['country']\n",
    "test['uniqueid'] = test['uniqueid']+str(' x ')+test['country']\n",
    "train.set_index(\"uniqueid\",inplace=True)\n",
    "test.set_index(\"uniqueid\",inplace=True)\n",
    "test['Target'] =0"
   ]
  },
  {
   "cell_type": "code",
   "execution_count": null,
   "metadata": {},
   "outputs": [],
   "source": []
  },
  {
   "cell_type": "markdown",
   "metadata": {},
   "source": [
    "# 3.Breif Look at the Data <a class='nkybz' id='3'></a>\n",
    "[Back to Table of Content](#TOC)"
   ]
  },
  {
   "cell_type": "code",
   "execution_count": null,
   "metadata": {},
   "outputs": [],
   "source": []
  },
  {
   "cell_type": "code",
   "execution_count": 5,
   "metadata": {},
   "outputs": [
    {
     "name": "stdout",
     "output_type": "stream",
     "text": [
      "Train shape ::  (23524, 12)\n",
      "competition test shape ::  (10086, 12)\n"
     ]
    }
   ],
   "source": [
    "print('Train shape :: ',train.shape)\n",
    "print('competition test shape :: ',test.shape)\n",
    "#print('Sample submission :: ',sub.shape)"
   ]
  },
  {
   "cell_type": "code",
   "execution_count": 6,
   "metadata": {},
   "outputs": [],
   "source": [
    "#sub.head(2)\n"
   ]
  },
  {
   "cell_type": "code",
   "execution_count": 7,
   "metadata": {},
   "outputs": [
    {
     "data": {
      "text/html": [
       "<div>\n",
       "<style scoped>\n",
       "    .dataframe tbody tr th:only-of-type {\n",
       "        vertical-align: middle;\n",
       "    }\n",
       "\n",
       "    .dataframe tbody tr th {\n",
       "        vertical-align: top;\n",
       "    }\n",
       "\n",
       "    .dataframe thead th {\n",
       "        text-align: right;\n",
       "    }\n",
       "</style>\n",
       "<table border=\"1\" class=\"dataframe\">\n",
       "  <thead>\n",
       "    <tr style=\"text-align: right;\">\n",
       "      <th></th>\n",
       "      <th>country</th>\n",
       "      <th>year</th>\n",
       "      <th>location_type</th>\n",
       "      <th>cellphone_access</th>\n",
       "      <th>household_size</th>\n",
       "      <th>age_of_respondent</th>\n",
       "      <th>gender_of_respondent</th>\n",
       "      <th>relationship_with_head</th>\n",
       "      <th>marital_status</th>\n",
       "      <th>education_level</th>\n",
       "      <th>job_type</th>\n",
       "      <th>Target</th>\n",
       "    </tr>\n",
       "    <tr>\n",
       "      <th>uniqueid</th>\n",
       "      <th></th>\n",
       "      <th></th>\n",
       "      <th></th>\n",
       "      <th></th>\n",
       "      <th></th>\n",
       "      <th></th>\n",
       "      <th></th>\n",
       "      <th></th>\n",
       "      <th></th>\n",
       "      <th></th>\n",
       "      <th></th>\n",
       "      <th></th>\n",
       "    </tr>\n",
       "  </thead>\n",
       "  <tbody>\n",
       "    <tr>\n",
       "      <th>uniqueid_6056 x Kenya</th>\n",
       "      <td>Kenya</td>\n",
       "      <td>2018</td>\n",
       "      <td>Urban</td>\n",
       "      <td>Yes</td>\n",
       "      <td>3</td>\n",
       "      <td>30</td>\n",
       "      <td>Male</td>\n",
       "      <td>Head of Household</td>\n",
       "      <td>Married/Living together</td>\n",
       "      <td>Secondary education</td>\n",
       "      <td>Formally employed Government</td>\n",
       "      <td>0</td>\n",
       "    </tr>\n",
       "    <tr>\n",
       "      <th>uniqueid_6060 x Kenya</th>\n",
       "      <td>Kenya</td>\n",
       "      <td>2018</td>\n",
       "      <td>Urban</td>\n",
       "      <td>Yes</td>\n",
       "      <td>7</td>\n",
       "      <td>51</td>\n",
       "      <td>Male</td>\n",
       "      <td>Head of Household</td>\n",
       "      <td>Married/Living together</td>\n",
       "      <td>Vocational/Specialised training</td>\n",
       "      <td>Formally employed Private</td>\n",
       "      <td>0</td>\n",
       "    </tr>\n",
       "    <tr>\n",
       "      <th>uniqueid_6065 x Kenya</th>\n",
       "      <td>Kenya</td>\n",
       "      <td>2018</td>\n",
       "      <td>Rural</td>\n",
       "      <td>No</td>\n",
       "      <td>3</td>\n",
       "      <td>77</td>\n",
       "      <td>Female</td>\n",
       "      <td>Parent</td>\n",
       "      <td>Married/Living together</td>\n",
       "      <td>No formal education</td>\n",
       "      <td>Remittance Dependent</td>\n",
       "      <td>0</td>\n",
       "    </tr>\n",
       "  </tbody>\n",
       "</table>\n",
       "</div>"
      ],
      "text/plain": [
       "                      country  year location_type cellphone_access  \\\n",
       "uniqueid                                                             \n",
       "uniqueid_6056 x Kenya   Kenya  2018         Urban              Yes   \n",
       "uniqueid_6060 x Kenya   Kenya  2018         Urban              Yes   \n",
       "uniqueid_6065 x Kenya   Kenya  2018         Rural               No   \n",
       "\n",
       "                       household_size  age_of_respondent gender_of_respondent  \\\n",
       "uniqueid                                                                        \n",
       "uniqueid_6056 x Kenya               3                 30                 Male   \n",
       "uniqueid_6060 x Kenya               7                 51                 Male   \n",
       "uniqueid_6065 x Kenya               3                 77               Female   \n",
       "\n",
       "                      relationship_with_head           marital_status  \\\n",
       "uniqueid                                                                \n",
       "uniqueid_6056 x Kenya      Head of Household  Married/Living together   \n",
       "uniqueid_6060 x Kenya      Head of Household  Married/Living together   \n",
       "uniqueid_6065 x Kenya                 Parent  Married/Living together   \n",
       "\n",
       "                                       education_level  \\\n",
       "uniqueid                                                 \n",
       "uniqueid_6056 x Kenya              Secondary education   \n",
       "uniqueid_6060 x Kenya  Vocational/Specialised training   \n",
       "uniqueid_6065 x Kenya              No formal education   \n",
       "\n",
       "                                           job_type  Target  \n",
       "uniqueid                                                     \n",
       "uniqueid_6056 x Kenya  Formally employed Government       0  \n",
       "uniqueid_6060 x Kenya     Formally employed Private       0  \n",
       "uniqueid_6065 x Kenya          Remittance Dependent       0  "
      ]
     },
     "metadata": {},
     "output_type": "display_data"
    },
    {
     "data": {
      "text/html": [
       "<div>\n",
       "<style scoped>\n",
       "    .dataframe tbody tr th:only-of-type {\n",
       "        vertical-align: middle;\n",
       "    }\n",
       "\n",
       "    .dataframe tbody tr th {\n",
       "        vertical-align: top;\n",
       "    }\n",
       "\n",
       "    .dataframe thead th {\n",
       "        text-align: right;\n",
       "    }\n",
       "</style>\n",
       "<table border=\"1\" class=\"dataframe\">\n",
       "  <thead>\n",
       "    <tr style=\"text-align: right;\">\n",
       "      <th></th>\n",
       "      <th>country</th>\n",
       "      <th>year</th>\n",
       "      <th>location_type</th>\n",
       "      <th>cellphone_access</th>\n",
       "      <th>household_size</th>\n",
       "      <th>age_of_respondent</th>\n",
       "      <th>gender_of_respondent</th>\n",
       "      <th>relationship_with_head</th>\n",
       "      <th>marital_status</th>\n",
       "      <th>education_level</th>\n",
       "      <th>job_type</th>\n",
       "      <th>bank_account</th>\n",
       "    </tr>\n",
       "    <tr>\n",
       "      <th>uniqueid</th>\n",
       "      <th></th>\n",
       "      <th></th>\n",
       "      <th></th>\n",
       "      <th></th>\n",
       "      <th></th>\n",
       "      <th></th>\n",
       "      <th></th>\n",
       "      <th></th>\n",
       "      <th></th>\n",
       "      <th></th>\n",
       "      <th></th>\n",
       "      <th></th>\n",
       "    </tr>\n",
       "  </thead>\n",
       "  <tbody>\n",
       "    <tr>\n",
       "      <th>uniqueid_1 x Kenya</th>\n",
       "      <td>Kenya</td>\n",
       "      <td>2018</td>\n",
       "      <td>Rural</td>\n",
       "      <td>Yes</td>\n",
       "      <td>3</td>\n",
       "      <td>24</td>\n",
       "      <td>Female</td>\n",
       "      <td>Spouse</td>\n",
       "      <td>Married/Living together</td>\n",
       "      <td>Secondary education</td>\n",
       "      <td>Self employed</td>\n",
       "      <td>Yes</td>\n",
       "    </tr>\n",
       "    <tr>\n",
       "      <th>uniqueid_2 x Kenya</th>\n",
       "      <td>Kenya</td>\n",
       "      <td>2018</td>\n",
       "      <td>Rural</td>\n",
       "      <td>No</td>\n",
       "      <td>5</td>\n",
       "      <td>70</td>\n",
       "      <td>Female</td>\n",
       "      <td>Head of Household</td>\n",
       "      <td>Widowed</td>\n",
       "      <td>No formal education</td>\n",
       "      <td>Government Dependent</td>\n",
       "      <td>No</td>\n",
       "    </tr>\n",
       "    <tr>\n",
       "      <th>uniqueid_3 x Kenya</th>\n",
       "      <td>Kenya</td>\n",
       "      <td>2018</td>\n",
       "      <td>Urban</td>\n",
       "      <td>Yes</td>\n",
       "      <td>5</td>\n",
       "      <td>26</td>\n",
       "      <td>Male</td>\n",
       "      <td>Other relative</td>\n",
       "      <td>Single/Never Married</td>\n",
       "      <td>Vocational/Specialised training</td>\n",
       "      <td>Self employed</td>\n",
       "      <td>Yes</td>\n",
       "    </tr>\n",
       "  </tbody>\n",
       "</table>\n",
       "</div>"
      ],
      "text/plain": [
       "                   country  year location_type cellphone_access  \\\n",
       "uniqueid                                                          \n",
       "uniqueid_1 x Kenya   Kenya  2018         Rural              Yes   \n",
       "uniqueid_2 x Kenya   Kenya  2018         Rural               No   \n",
       "uniqueid_3 x Kenya   Kenya  2018         Urban              Yes   \n",
       "\n",
       "                    household_size  age_of_respondent gender_of_respondent  \\\n",
       "uniqueid                                                                     \n",
       "uniqueid_1 x Kenya               3                 24               Female   \n",
       "uniqueid_2 x Kenya               5                 70               Female   \n",
       "uniqueid_3 x Kenya               5                 26                 Male   \n",
       "\n",
       "                   relationship_with_head           marital_status  \\\n",
       "uniqueid                                                             \n",
       "uniqueid_1 x Kenya                 Spouse  Married/Living together   \n",
       "uniqueid_2 x Kenya      Head of Household                  Widowed   \n",
       "uniqueid_3 x Kenya         Other relative     Single/Never Married   \n",
       "\n",
       "                                    education_level              job_type  \\\n",
       "uniqueid                                                                    \n",
       "uniqueid_1 x Kenya              Secondary education         Self employed   \n",
       "uniqueid_2 x Kenya              No formal education  Government Dependent   \n",
       "uniqueid_3 x Kenya  Vocational/Specialised training         Self employed   \n",
       "\n",
       "                   bank_account  \n",
       "uniqueid                         \n",
       "uniqueid_1 x Kenya          Yes  \n",
       "uniqueid_2 x Kenya           No  \n",
       "uniqueid_3 x Kenya          Yes  "
      ]
     },
     "metadata": {},
     "output_type": "display_data"
    }
   ],
   "source": [
    "display(test.head(3))\n",
    "display(train.head(3))"
   ]
  },
  {
   "cell_type": "code",
   "execution_count": 8,
   "metadata": {},
   "outputs": [
    {
     "data": {
      "text/html": [
       "<div>\n",
       "<style scoped>\n",
       "    .dataframe tbody tr th:only-of-type {\n",
       "        vertical-align: middle;\n",
       "    }\n",
       "\n",
       "    .dataframe tbody tr th {\n",
       "        vertical-align: top;\n",
       "    }\n",
       "\n",
       "    .dataframe thead th {\n",
       "        text-align: right;\n",
       "    }\n",
       "</style>\n",
       "<table border=\"1\" class=\"dataframe\">\n",
       "  <thead>\n",
       "    <tr style=\"text-align: right;\">\n",
       "      <th></th>\n",
       "      <th>country</th>\n",
       "      <th>location_type</th>\n",
       "      <th>cellphone_access</th>\n",
       "      <th>gender_of_respondent</th>\n",
       "      <th>relationship_with_head</th>\n",
       "      <th>marital_status</th>\n",
       "      <th>education_level</th>\n",
       "      <th>job_type</th>\n",
       "      <th>bank_account</th>\n",
       "    </tr>\n",
       "  </thead>\n",
       "  <tbody>\n",
       "    <tr>\n",
       "      <th>count</th>\n",
       "      <td>23524</td>\n",
       "      <td>23524</td>\n",
       "      <td>23524</td>\n",
       "      <td>23524</td>\n",
       "      <td>23524</td>\n",
       "      <td>23524</td>\n",
       "      <td>23524</td>\n",
       "      <td>23524</td>\n",
       "      <td>23524</td>\n",
       "    </tr>\n",
       "    <tr>\n",
       "      <th>unique</th>\n",
       "      <td>4</td>\n",
       "      <td>2</td>\n",
       "      <td>2</td>\n",
       "      <td>2</td>\n",
       "      <td>6</td>\n",
       "      <td>5</td>\n",
       "      <td>6</td>\n",
       "      <td>10</td>\n",
       "      <td>2</td>\n",
       "    </tr>\n",
       "    <tr>\n",
       "      <th>top</th>\n",
       "      <td>Rwanda</td>\n",
       "      <td>Rural</td>\n",
       "      <td>Yes</td>\n",
       "      <td>Female</td>\n",
       "      <td>Head of Household</td>\n",
       "      <td>Married/Living together</td>\n",
       "      <td>Primary education</td>\n",
       "      <td>Self employed</td>\n",
       "      <td>No</td>\n",
       "    </tr>\n",
       "    <tr>\n",
       "      <th>freq</th>\n",
       "      <td>8735</td>\n",
       "      <td>14343</td>\n",
       "      <td>17454</td>\n",
       "      <td>13877</td>\n",
       "      <td>12831</td>\n",
       "      <td>10749</td>\n",
       "      <td>12791</td>\n",
       "      <td>6437</td>\n",
       "      <td>20212</td>\n",
       "    </tr>\n",
       "  </tbody>\n",
       "</table>\n",
       "</div>"
      ],
      "text/plain": [
       "       country location_type cellphone_access gender_of_respondent  \\\n",
       "count    23524         23524            23524                23524   \n",
       "unique       4             2                2                    2   \n",
       "top     Rwanda         Rural              Yes               Female   \n",
       "freq      8735         14343            17454                13877   \n",
       "\n",
       "       relationship_with_head           marital_status    education_level  \\\n",
       "count                   23524                    23524              23524   \n",
       "unique                      6                        5                  6   \n",
       "top         Head of Household  Married/Living together  Primary education   \n",
       "freq                    12831                    10749              12791   \n",
       "\n",
       "             job_type bank_account  \n",
       "count           23524        23524  \n",
       "unique             10            2  \n",
       "top     Self employed           No  \n",
       "freq             6437        20212  "
      ]
     },
     "metadata": {},
     "output_type": "display_data"
    },
    {
     "data": {
      "text/html": [
       "<div>\n",
       "<style scoped>\n",
       "    .dataframe tbody tr th:only-of-type {\n",
       "        vertical-align: middle;\n",
       "    }\n",
       "\n",
       "    .dataframe tbody tr th {\n",
       "        vertical-align: top;\n",
       "    }\n",
       "\n",
       "    .dataframe thead th {\n",
       "        text-align: right;\n",
       "    }\n",
       "</style>\n",
       "<table border=\"1\" class=\"dataframe\">\n",
       "  <thead>\n",
       "    <tr style=\"text-align: right;\">\n",
       "      <th></th>\n",
       "      <th>year</th>\n",
       "      <th>household_size</th>\n",
       "      <th>age_of_respondent</th>\n",
       "    </tr>\n",
       "  </thead>\n",
       "  <tbody>\n",
       "    <tr>\n",
       "      <th>count</th>\n",
       "      <td>23524.000000</td>\n",
       "      <td>23524.000000</td>\n",
       "      <td>23524.000000</td>\n",
       "    </tr>\n",
       "    <tr>\n",
       "      <th>mean</th>\n",
       "      <td>2016.975939</td>\n",
       "      <td>3.797483</td>\n",
       "      <td>38.805220</td>\n",
       "    </tr>\n",
       "    <tr>\n",
       "      <th>std</th>\n",
       "      <td>0.847371</td>\n",
       "      <td>2.227613</td>\n",
       "      <td>16.520569</td>\n",
       "    </tr>\n",
       "    <tr>\n",
       "      <th>min</th>\n",
       "      <td>2016.000000</td>\n",
       "      <td>1.000000</td>\n",
       "      <td>16.000000</td>\n",
       "    </tr>\n",
       "    <tr>\n",
       "      <th>25%</th>\n",
       "      <td>2016.000000</td>\n",
       "      <td>2.000000</td>\n",
       "      <td>26.000000</td>\n",
       "    </tr>\n",
       "    <tr>\n",
       "      <th>50%</th>\n",
       "      <td>2017.000000</td>\n",
       "      <td>3.000000</td>\n",
       "      <td>35.000000</td>\n",
       "    </tr>\n",
       "    <tr>\n",
       "      <th>75%</th>\n",
       "      <td>2018.000000</td>\n",
       "      <td>5.000000</td>\n",
       "      <td>49.000000</td>\n",
       "    </tr>\n",
       "    <tr>\n",
       "      <th>max</th>\n",
       "      <td>2018.000000</td>\n",
       "      <td>21.000000</td>\n",
       "      <td>100.000000</td>\n",
       "    </tr>\n",
       "  </tbody>\n",
       "</table>\n",
       "</div>"
      ],
      "text/plain": [
       "               year  household_size  age_of_respondent\n",
       "count  23524.000000    23524.000000       23524.000000\n",
       "mean    2016.975939        3.797483          38.805220\n",
       "std        0.847371        2.227613          16.520569\n",
       "min     2016.000000        1.000000          16.000000\n",
       "25%     2016.000000        2.000000          26.000000\n",
       "50%     2017.000000        3.000000          35.000000\n",
       "75%     2018.000000        5.000000          49.000000\n",
       "max     2018.000000       21.000000         100.000000"
      ]
     },
     "metadata": {},
     "output_type": "display_data"
    }
   ],
   "source": [
    "display(train.describe(include=object))\n",
    "display(train.describe())"
   ]
  },
  {
   "cell_type": "code",
   "execution_count": 9,
   "metadata": {},
   "outputs": [
    {
     "name": "stdout",
     "output_type": "stream",
     "text": [
      "<class 'pandas.core.frame.DataFrame'>\n",
      "Index: 23524 entries, uniqueid_1 x Kenya to uniqueid_2117 x Uganda\n",
      "Data columns (total 12 columns):\n",
      " #   Column                  Non-Null Count  Dtype \n",
      "---  ------                  --------------  ----- \n",
      " 0   country                 23524 non-null  object\n",
      " 1   year                    23524 non-null  int64 \n",
      " 2   location_type           23524 non-null  object\n",
      " 3   cellphone_access        23524 non-null  object\n",
      " 4   household_size          23524 non-null  int64 \n",
      " 5   age_of_respondent       23524 non-null  int64 \n",
      " 6   gender_of_respondent    23524 non-null  object\n",
      " 7   relationship_with_head  23524 non-null  object\n",
      " 8   marital_status          23524 non-null  object\n",
      " 9   education_level         23524 non-null  object\n",
      " 10  job_type                23524 non-null  object\n",
      " 11  bank_account            23524 non-null  object\n",
      "dtypes: int64(3), object(9)\n",
      "memory usage: 2.3+ MB\n"
     ]
    }
   ],
   "source": [
    "train.info()"
   ]
  },
  {
   "cell_type": "code",
   "execution_count": null,
   "metadata": {},
   "outputs": [],
   "source": []
  },
  {
   "cell_type": "code",
   "execution_count": null,
   "metadata": {},
   "outputs": [],
   "source": []
  },
  {
   "cell_type": "code",
   "execution_count": 10,
   "metadata": {},
   "outputs": [
    {
     "name": "stdout",
     "output_type": "stream",
     "text": [
      "xtrain.shape ::  (16466, 12)\n",
      "xtest.shape ::  (7058, 12)\n"
     ]
    }
   ],
   "source": [
    "from sklearn.model_selection import train_test_split\n",
    "xtrain,xtest,ytrain,ytest = train_test_split(train,train['bank_account'],test_size=0.3,stratify=train['bank_account'],\n",
    "                                            random_state=211)\n",
    "print(\"xtrain.shape :: \",xtrain.shape)\n",
    "print('xtest.shape :: ',xtest.shape)"
   ]
  },
  {
   "cell_type": "markdown",
   "metadata": {},
   "source": [
    "# Basic Summaries"
   ]
  },
  {
   "cell_type": "code",
   "execution_count": 11,
   "metadata": {},
   "outputs": [
    {
     "name": "stdout",
     "output_type": "stream",
     "text": [
      "<class 'pandas.core.frame.DataFrame'>\n",
      "Index: 16466 entries, uniqueid_3200 x Tanzania to uniqueid_5835 x Tanzania\n",
      "Data columns (total 12 columns):\n",
      " #   Column                  Non-Null Count  Dtype \n",
      "---  ------                  --------------  ----- \n",
      " 0   country                 16466 non-null  object\n",
      " 1   year                    16466 non-null  int64 \n",
      " 2   location_type           16466 non-null  object\n",
      " 3   cellphone_access        16466 non-null  object\n",
      " 4   household_size          16466 non-null  int64 \n",
      " 5   age_of_respondent       16466 non-null  int64 \n",
      " 6   gender_of_respondent    16466 non-null  object\n",
      " 7   relationship_with_head  16466 non-null  object\n",
      " 8   marital_status          16466 non-null  object\n",
      " 9   education_level         16466 non-null  object\n",
      " 10  job_type                16466 non-null  object\n",
      " 11  bank_account            16466 non-null  object\n",
      "dtypes: int64(3), object(9)\n",
      "memory usage: 1.6+ MB\n"
     ]
    }
   ],
   "source": [
    "xtrain.info()"
   ]
  },
  {
   "cell_type": "code",
   "execution_count": 12,
   "metadata": {},
   "outputs": [
    {
     "data": {
      "text/plain": [
       "Index(['country', 'location_type', 'cellphone_access', 'gender_of_respondent',\n",
       "       'relationship_with_head', 'marital_status', 'education_level',\n",
       "       'job_type', 'bank_account'],\n",
       "      dtype='object')"
      ]
     },
     "execution_count": 12,
     "metadata": {},
     "output_type": "execute_result"
    }
   ],
   "source": [
    "xtrain.loc[:,xtrain.dtypes == object].columns"
   ]
  },
  {
   "cell_type": "code",
   "execution_count": 13,
   "metadata": {
    "scrolled": true
   },
   "outputs": [
    {
     "data": {
      "text/plain": [
       "country                    4\n",
       "year                       3\n",
       "location_type              2\n",
       "cellphone_access           2\n",
       "household_size            19\n",
       "age_of_respondent         84\n",
       "gender_of_respondent       2\n",
       "relationship_with_head     6\n",
       "marital_status             5\n",
       "education_level            6\n",
       "job_type                  10\n",
       "bank_account               2\n",
       "dtype: int64"
      ]
     },
     "execution_count": 13,
     "metadata": {},
     "output_type": "execute_result"
    }
   ],
   "source": [
    "xtrain.nunique()"
   ]
  },
  {
   "cell_type": "code",
   "execution_count": 14,
   "metadata": {},
   "outputs": [
    {
     "data": {
      "text/plain": [
       "(False, False, False)"
      ]
     },
     "execution_count": 14,
     "metadata": {},
     "output_type": "execute_result"
    }
   ],
   "source": [
    "xtrain.isna().sum().any(),xtest.isna().sum().any(),test.isna().sum().any()"
   ]
  },
  {
   "cell_type": "code",
   "execution_count": null,
   "metadata": {},
   "outputs": [],
   "source": []
  },
  {
   "cell_type": "code",
   "execution_count": 15,
   "metadata": {},
   "outputs": [
    {
     "data": {
      "text/plain": [
       "country                    4\n",
       "location_type              2\n",
       "cellphone_access           2\n",
       "gender_of_respondent       2\n",
       "relationship_with_head     6\n",
       "marital_status             5\n",
       "education_level            6\n",
       "job_type                  10\n",
       "dtype: int64"
      ]
     },
     "execution_count": 15,
     "metadata": {},
     "output_type": "execute_result"
    }
   ],
   "source": [
    "cat_cols = xtrain.loc[:,xtrain.dtypes == object].columns\n",
    "cat_cols = cat_cols.drop(['bank_account'])\n",
    "xtrain[cat_cols].nunique()"
   ]
  },
  {
   "cell_type": "code",
   "execution_count": 16,
   "metadata": {},
   "outputs": [
    {
     "data": {
      "text/html": [
       "<div>\n",
       "<style scoped>\n",
       "    .dataframe tbody tr th:only-of-type {\n",
       "        vertical-align: middle;\n",
       "    }\n",
       "\n",
       "    .dataframe tbody tr th {\n",
       "        vertical-align: top;\n",
       "    }\n",
       "\n",
       "    .dataframe thead th {\n",
       "        text-align: right;\n",
       "    }\n",
       "</style>\n",
       "<table border=\"1\" class=\"dataframe\">\n",
       "  <thead>\n",
       "    <tr style=\"text-align: right;\">\n",
       "      <th></th>\n",
       "      <th>country</th>\n",
       "      <th>location_type</th>\n",
       "      <th>cellphone_access</th>\n",
       "      <th>gender_of_respondent</th>\n",
       "      <th>relationship_with_head</th>\n",
       "      <th>marital_status</th>\n",
       "      <th>education_level</th>\n",
       "      <th>job_type</th>\n",
       "    </tr>\n",
       "  </thead>\n",
       "  <tbody>\n",
       "    <tr>\n",
       "      <th>count</th>\n",
       "      <td>16466</td>\n",
       "      <td>16466</td>\n",
       "      <td>16466</td>\n",
       "      <td>16466</td>\n",
       "      <td>16466</td>\n",
       "      <td>16466</td>\n",
       "      <td>16466</td>\n",
       "      <td>16466</td>\n",
       "    </tr>\n",
       "    <tr>\n",
       "      <th>unique</th>\n",
       "      <td>4</td>\n",
       "      <td>2</td>\n",
       "      <td>2</td>\n",
       "      <td>2</td>\n",
       "      <td>6</td>\n",
       "      <td>5</td>\n",
       "      <td>6</td>\n",
       "      <td>10</td>\n",
       "    </tr>\n",
       "    <tr>\n",
       "      <th>top</th>\n",
       "      <td>Rwanda</td>\n",
       "      <td>Rural</td>\n",
       "      <td>Yes</td>\n",
       "      <td>Female</td>\n",
       "      <td>Head of Household</td>\n",
       "      <td>Married/Living together</td>\n",
       "      <td>Primary education</td>\n",
       "      <td>Self employed</td>\n",
       "    </tr>\n",
       "    <tr>\n",
       "      <th>freq</th>\n",
       "      <td>6100</td>\n",
       "      <td>10010</td>\n",
       "      <td>12184</td>\n",
       "      <td>9699</td>\n",
       "      <td>8945</td>\n",
       "      <td>7513</td>\n",
       "      <td>8919</td>\n",
       "      <td>4537</td>\n",
       "    </tr>\n",
       "  </tbody>\n",
       "</table>\n",
       "</div>"
      ],
      "text/plain": [
       "       country location_type cellphone_access gender_of_respondent  \\\n",
       "count    16466         16466            16466                16466   \n",
       "unique       4             2                2                    2   \n",
       "top     Rwanda         Rural              Yes               Female   \n",
       "freq      6100         10010            12184                 9699   \n",
       "\n",
       "       relationship_with_head           marital_status    education_level  \\\n",
       "count                   16466                    16466              16466   \n",
       "unique                      6                        5                  6   \n",
       "top         Head of Household  Married/Living together  Primary education   \n",
       "freq                     8945                     7513               8919   \n",
       "\n",
       "             job_type  \n",
       "count           16466  \n",
       "unique             10  \n",
       "top     Self employed  \n",
       "freq             4537  "
      ]
     },
     "execution_count": 16,
     "metadata": {},
     "output_type": "execute_result"
    }
   ],
   "source": [
    "xtrain[cat_cols].describe()"
   ]
  },
  {
   "cell_type": "code",
   "execution_count": null,
   "metadata": {},
   "outputs": [],
   "source": []
  },
  {
   "cell_type": "code",
   "execution_count": 17,
   "metadata": {},
   "outputs": [
    {
     "data": {
      "text/plain": [
       "<matplotlib.axes._subplots.AxesSubplot at 0x1ad63743760>"
      ]
     },
     "execution_count": 17,
     "metadata": {},
     "output_type": "execute_result"
    },
    {
     "data": {
      "image/png": "[encoded data removed]",
      "text/plain": [
       "<Figure size 432x288 with 1 Axes>"
      ]
     },
     "metadata": {},
     "output_type": "display_data"
    }
   ],
   "source": [
    "sns.kdeplot(xtrain['age_of_respondent'])"
   ]
  },
  {
   "cell_type": "code",
   "execution_count": 18,
   "metadata": {},
   "outputs": [],
   "source": [
    "#sns.displot(xtrain['age_of_respondent'])"
   ]
  },
  {
   "cell_type": "code",
   "execution_count": 19,
   "metadata": {
    "scrolled": true
   },
   "outputs": [
    {
     "data": {
      "text/plain": [
       "<matplotlib.axes._subplots.AxesSubplot at 0x1ad639069d0>"
      ]
     },
     "execution_count": 19,
     "metadata": {},
     "output_type": "execute_result"
    },
    {
     "data": {
      "image/png": "[encoded data removed]",
      "text/plain": [
       "<Figure size 432x288 with 2 Axes>"
      ]
     },
     "metadata": {},
     "output_type": "display_data"
    }
   ],
   "source": [
    "sns.heatmap(xtrain.corr(),annot=True,cmap=\"jet\")"
   ]
  },
  {
   "cell_type": "markdown",
   "metadata": {},
   "source": [
    "# Frequency distribution\n",
    "#### bar plot showing the frequency of each category and highlight the 5% mark with a red line"
   ]
  },
  {
   "cell_type": "code",
   "execution_count": null,
   "metadata": {},
   "outputs": [],
   "source": []
  },
  {
   "cell_type": "code",
   "execution_count": null,
   "metadata": {},
   "outputs": [],
   "source": []
  },
  {
   "cell_type": "code",
   "execution_count": 20,
   "metadata": {},
   "outputs": [
    {
     "data": {
      "text/plain": [
       "Index(['country', 'year', 'location_type', 'cellphone_access',\n",
       "       'household_size', 'age_of_respondent', 'gender_of_respondent',\n",
       "       'relationship_with_head', 'marital_status', 'education_level',\n",
       "       'job_type', 'bank_account'],\n",
       "      dtype='object')"
      ]
     },
     "execution_count": 20,
     "metadata": {},
     "output_type": "execute_result"
    }
   ],
   "source": [
    "xtrain.columns"
   ]
  },
  {
   "cell_type": "code",
   "execution_count": 21,
   "metadata": {},
   "outputs": [],
   "source": [
    "country_freq = xtrain['country'].value_counts()/len(xtrain)\n",
    "year_freq = xtrain['year'].value_counts()/len(xtrain)\n",
    "household_size_freq = xtrain['household_size'].value_counts()/len(xtrain)\n",
    "relationship_with_head_freq = xtrain['relationship_with_head'].value_counts()/len(xtrain)\n",
    "marital_status_freq = xtrain['marital_status'].value_counts()/len(xtrain)\n",
    "education_level_freq = xtrain['education_level'].value_counts()/len(xtrain)\n",
    "job_type_freq = xtrain['job_type'].value_counts()/len(xtrain)"
   ]
  },
  {
   "cell_type": "markdown",
   "metadata": {},
   "source": [
    "#### 5. Let's make a bar plot showing the frequency of each category and highlight the 5% mark with a red line:"
   ]
  },
  {
   "cell_type": "code",
   "execution_count": 22,
   "metadata": {},
   "outputs": [
    {
     "data": {
      "image/png": "[encoded data removed]",
      "text/plain": [
       "<Figure size 432x288 with 1 Axes>"
      ]
     },
     "metadata": {},
     "output_type": "display_data"
    }
   ],
   "source": [
    "fig = country_freq.sort_values(ascending=False).plot.bar()\n",
    "fig.axhline(y=0.03, color='red')\n",
    "fig.set_ylabel('percentage of country within each category')\n",
    "fig.set_xlabel('Variable: class')\n",
    "fig.set_title('Identifying Rare Categories')\n",
    "plt.show()"
   ]
  },
  {
   "cell_type": "code",
   "execution_count": 23,
   "metadata": {},
   "outputs": [
    {
     "data": {
      "image/png": "[encoded data removed]",
      "text/plain": [
       "<Figure size 432x288 with 1 Axes>"
      ]
     },
     "metadata": {},
     "output_type": "display_data"
    }
   ],
   "source": [
    "fig = year_freq.sort_values(ascending=False).plot.bar()\n",
    "fig.axhline(y=0.03, color='red')\n",
    "fig.set_ylabel('percentage of year within each category')\n",
    "fig.set_xlabel('Variable: class')\n",
    "fig.set_title('Identifying Rare Categories')\n",
    "plt.show()"
   ]
  },
  {
   "cell_type": "code",
   "execution_count": 24,
   "metadata": {},
   "outputs": [
    {
     "data": {
      "image/png": "[encoded data removed]",
      "text/plain": [
       "<Figure size 432x288 with 1 Axes>"
      ]
     },
     "metadata": {},
     "output_type": "display_data"
    }
   ],
   "source": [
    "fig = household_size_freq.sort_values(ascending=False).plot.bar()\n",
    "fig.axhline(y=0.03, color='red')\n",
    "fig.set_ylabel('percentage of year within each category')\n",
    "fig.set_xlabel('Variable: class')\n",
    "fig.set_title('Identifying Rare Categories')\n",
    "plt.show()"
   ]
  },
  {
   "cell_type": "code",
   "execution_count": 25,
   "metadata": {},
   "outputs": [
    {
     "data": {
      "image/png": "[encoded data removed]",
      "text/plain": [
       "<Figure size 432x288 with 1 Axes>"
      ]
     },
     "metadata": {},
     "output_type": "display_data"
    }
   ],
   "source": [
    "fig = relationship_with_head_freq.sort_values(ascending=False).plot.bar()\n",
    "fig.axhline(y=0.03, color='red')\n",
    "fig.set_ylabel('percentage of year within each category')\n",
    "fig.set_xlabel('Variable: class')\n",
    "fig.set_title('Identifying Rare Categories')\n",
    "plt.show()"
   ]
  },
  {
   "cell_type": "code",
   "execution_count": 26,
   "metadata": {},
   "outputs": [
    {
     "data": {
      "image/png": "[encoded data removed]",
      "text/plain": [
       "<Figure size 432x288 with 1 Axes>"
      ]
     },
     "metadata": {},
     "output_type": "display_data"
    }
   ],
   "source": [
    "fig = marital_status_freq.sort_values(ascending=False).plot.bar()\n",
    "fig.axhline(y=0.03, color='red')\n",
    "fig.set_ylabel('percentage of year within each category')\n",
    "fig.set_xlabel('Variable: class')\n",
    "fig.set_title('Identifying Rare Categories')\n",
    "plt.show()"
   ]
  },
  {
   "cell_type": "code",
   "execution_count": 27,
   "metadata": {},
   "outputs": [
    {
     "data": {
      "image/png": "[encoded data removed]",
      "text/plain": [
       "<Figure size 432x288 with 1 Axes>"
      ]
     },
     "metadata": {},
     "output_type": "display_data"
    }
   ],
   "source": [
    "fig = education_level_freq.sort_values(ascending=False).plot.bar()\n",
    "fig.axhline(y=0.03, color='red')\n",
    "fig.set_ylabel('percentage of year within each category')\n",
    "fig.set_xlabel('Variable: class')\n",
    "fig.set_title('Identifying Rare Categories')\n",
    "plt.show()"
   ]
  },
  {
   "cell_type": "code",
   "execution_count": 28,
   "metadata": {},
   "outputs": [
    {
     "data": {
      "image/png": "[encoded data removed]",
      "text/plain": [
       "<Figure size 432x288 with 1 Axes>"
      ]
     },
     "metadata": {},
     "output_type": "display_data"
    }
   ],
   "source": [
    "fig = job_type_freq.sort_values(ascending=False).plot.bar()\n",
    "fig.axhline(y=0.03, color='red')\n",
    "fig.set_ylabel('percentage of year within each category')\n",
    "fig.set_xlabel('Variable: class')\n",
    "fig.set_title('Identifying Rare Categories')\n",
    "plt.show()"
   ]
  },
  {
   "cell_type": "code",
   "execution_count": null,
   "metadata": {},
   "outputs": [],
   "source": []
  },
  {
   "cell_type": "code",
   "execution_count": null,
   "metadata": {},
   "outputs": [],
   "source": []
  },
  {
   "cell_type": "markdown",
   "metadata": {},
   "source": [
    "# 4.Encoding <a class='nkybz' id='4'></a>\n",
    "[Back to Table of Content](#TOC)"
   ]
  },
  {
   "cell_type": "code",
   "execution_count": 29,
   "metadata": {},
   "outputs": [
    {
     "data": {
      "text/plain": [
       "Index(['country', 'location_type', 'cellphone_access', 'gender_of_respondent',\n",
       "       'relationship_with_head', 'marital_status', 'education_level',\n",
       "       'job_type', 'bank_account'],\n",
       "      dtype='object')"
      ]
     },
     "metadata": {},
     "output_type": "display_data"
    },
    {
     "data": {
      "text/plain": [
       "job_type                  10\n",
       "education_level            6\n",
       "relationship_with_head     6\n",
       "marital_status             5\n",
       "country                    4\n",
       "bank_account               2\n",
       "gender_of_respondent       2\n",
       "cellphone_access           2\n",
       "location_type              2\n",
       "dtype: int64"
      ]
     },
     "metadata": {},
     "output_type": "display_data"
    }
   ],
   "source": [
    "cat_cols = xtrain.loc[:,xtrain.dtypes==object].columns\n",
    "display(cat_cols)\n",
    "display(xtrain[cat_cols].nunique().sort_values(ascending=False))"
   ]
  },
  {
   "cell_type": "code",
   "execution_count": 30,
   "metadata": {},
   "outputs": [
    {
     "data": {
      "text/plain": [
       "country                    4\n",
       "location_type              2\n",
       "cellphone_access           2\n",
       "gender_of_respondent       2\n",
       "relationship_with_head     6\n",
       "marital_status             5\n",
       "education_level            6\n",
       "job_type                  10\n",
       "bank_account               2\n",
       "dtype: int64"
      ]
     },
     "metadata": {},
     "output_type": "display_data"
    },
    {
     "data": {
      "text/plain": [
       "country                    4\n",
       "location_type              2\n",
       "cellphone_access           2\n",
       "gender_of_respondent       2\n",
       "relationship_with_head     6\n",
       "marital_status             5\n",
       "education_level            6\n",
       "job_type                  10\n",
       "bank_account               2\n",
       "dtype: int64"
      ]
     },
     "metadata": {},
     "output_type": "display_data"
    }
   ],
   "source": [
    "display(xtrain[cat_cols].nunique())\n",
    "display(xtest[cat_cols].nunique())\n",
    "#display(test[cat_cols].nunique())"
   ]
  },
  {
   "cell_type": "markdown",
   "metadata": {},
   "source": [
    "## One hot encoding"
   ]
  },
  {
   "cell_type": "code",
   "execution_count": null,
   "metadata": {},
   "outputs": [],
   "source": []
  },
  {
   "cell_type": "code",
   "execution_count": null,
   "metadata": {},
   "outputs": [],
   "source": []
  },
  {
   "cell_type": "code",
   "execution_count": null,
   "metadata": {},
   "outputs": [],
   "source": []
  },
  {
   "cell_type": "code",
   "execution_count": null,
   "metadata": {},
   "outputs": [],
   "source": []
  },
  {
   "cell_type": "markdown",
   "metadata": {},
   "source": [
    "# 5.Handling Missing Values <a class='nkybz' id='5'></a>\n",
    "[Back to Table of Content](#TOC)"
   ]
  },
  {
   "cell_type": "code",
   "execution_count": 31,
   "metadata": {},
   "outputs": [
    {
     "data": {
      "text/plain": [
       "(False, False, False)"
      ]
     },
     "execution_count": 31,
     "metadata": {},
     "output_type": "execute_result"
    }
   ],
   "source": [
    "xtrain.isna().sum().any(),xtest.isna().sum().any(),test.isna().sum().any()"
   ]
  },
  {
   "cell_type": "markdown",
   "metadata": {},
   "source": [
    "# 5.1 Explore <a class='nkybz' id='5.1'></a>\n",
    "[Back to Table of Content](#TOC)"
   ]
  },
  {
   "cell_type": "code",
   "execution_count": null,
   "metadata": {},
   "outputs": [],
   "source": []
  },
  {
   "cell_type": "code",
   "execution_count": null,
   "metadata": {},
   "outputs": [],
   "source": []
  },
  {
   "cell_type": "markdown",
   "metadata": {},
   "source": [
    "# 6.Outliers <a class=\"nkybz\" id='6'></a>\n",
    "[Back to Table of Content](#TOC)"
   ]
  },
  {
   "cell_type": "code",
   "execution_count": null,
   "metadata": {},
   "outputs": [],
   "source": []
  },
  {
   "cell_type": "code",
   "execution_count": null,
   "metadata": {},
   "outputs": [],
   "source": []
  },
  {
   "cell_type": "code",
   "execution_count": null,
   "metadata": {},
   "outputs": [],
   "source": []
  },
  {
   "cell_type": "code",
   "execution_count": null,
   "metadata": {},
   "outputs": [],
   "source": []
  },
  {
   "cell_type": "code",
   "execution_count": null,
   "metadata": {},
   "outputs": [],
   "source": []
  },
  {
   "cell_type": "code",
   "execution_count": null,
   "metadata": {},
   "outputs": [],
   "source": []
  },
  {
   "cell_type": "code",
   "execution_count": null,
   "metadata": {},
   "outputs": [],
   "source": []
  },
  {
   "cell_type": "markdown",
   "metadata": {},
   "source": [
    "# 7.Transformaing <a class='nkybz' id='7'></a>\n",
    "[Back to Table of Content](#TOC)"
   ]
  },
  {
   "cell_type": "code",
   "execution_count": null,
   "metadata": {},
   "outputs": [],
   "source": []
  },
  {
   "cell_type": "code",
   "execution_count": null,
   "metadata": {},
   "outputs": [],
   "source": []
  },
  {
   "cell_type": "markdown",
   "metadata": {},
   "source": [
    "# 8.Feature Engineering <a class='nkybz' id='8'></a>\n",
    "[Back to Table of Content](#TOC)"
   ]
  },
  {
   "cell_type": "markdown",
   "metadata": {},
   "source": [
    "### Combining multiple features with statistical operations"
   ]
  },
  {
   "cell_type": "code",
   "execution_count": 32,
   "metadata": {},
   "outputs": [],
   "source": [
    "\n",
    "#df_t = df[features].agg(['sum','prod','mean','std', 'max', 'min'], axis='columns').\n"
   ]
  },
  {
   "cell_type": "markdown",
   "metadata": {},
   "source": [
    "### Combining pairs of features with mathematical functions"
   ]
  },
  {
   "cell_type": "code",
   "execution_count": null,
   "metadata": {},
   "outputs": [],
   "source": []
  },
  {
   "cell_type": "markdown",
   "metadata": {},
   "source": [
    "# 9.Feature Selection <a class=\"nkybz\" id='9'></a>\n",
    "[Back to Table of Content](#TOC)"
   ]
  },
  {
   "cell_type": "markdown",
   "metadata": {},
   "source": [
    "# 10.Model Prep <a class='nkybz' id='10'></a>\n",
    "[Back to Table of Content](#TOC)"
   ]
  },
  {
   "cell_type": "code",
   "execution_count": 33,
   "metadata": {},
   "outputs": [
    {
     "data": {
      "text/plain": [
       "((16466, 12), (7058, 12), (10086, 12))"
      ]
     },
     "execution_count": 33,
     "metadata": {},
     "output_type": "execute_result"
    }
   ],
   "source": [
    "xtrain.shape,xtest.shape,test.shape"
   ]
  },
  {
   "cell_type": "code",
   "execution_count": null,
   "metadata": {},
   "outputs": [],
   "source": []
  },
  {
   "cell_type": "code",
   "execution_count": null,
   "metadata": {},
   "outputs": [],
   "source": []
  },
  {
   "cell_type": "code",
   "execution_count": 34,
   "metadata": {},
   "outputs": [
    {
     "data": {
      "text/plain": [
       "11"
      ]
     },
     "metadata": {},
     "output_type": "display_data"
    },
    {
     "data": {
      "text/plain": [
       "Index(['country', 'year', 'location_type', 'cellphone_access',\n",
       "       'household_size', 'age_of_respondent', 'gender_of_respondent',\n",
       "       'relationship_with_head', 'marital_status', 'education_level',\n",
       "       'job_type'],\n",
       "      dtype='object')"
      ]
     },
     "execution_count": 34,
     "metadata": {},
     "output_type": "execute_result"
    }
   ],
   "source": [
    "final_cols =xtrain.drop(['bank_account'],axis=1).columns\n",
    "display(len(final_cols))\n",
    "final_cols"
   ]
  },
  {
   "cell_type": "code",
   "execution_count": 35,
   "metadata": {},
   "outputs": [],
   "source": [
    "xtrain_final=xtrain[final_cols].copy()\n",
    "xtest_final=xtest[final_cols].copy()\n",
    "test_final=test[final_cols].copy()"
   ]
  },
  {
   "cell_type": "code",
   "execution_count": 36,
   "metadata": {},
   "outputs": [
    {
     "data": {
      "text/plain": [
       "(False, False, False)"
      ]
     },
     "execution_count": 36,
     "metadata": {},
     "output_type": "execute_result"
    }
   ],
   "source": [
    "xtrain_final.isna().sum().any(),xtest_final.isna().sum().any(),test_final.isna().sum().any()"
   ]
  },
  {
   "cell_type": "code",
   "execution_count": 37,
   "metadata": {},
   "outputs": [],
   "source": [
    "cat_1hot_f = ['country', 'year', 'location_type', 'cellphone_access',\n",
    "       'household_size', 'gender_of_respondent',\n",
    "       'relationship_with_head', 'marital_status', 'education_level',\n",
    "       'job_type']\n",
    "#cat_ord_f = \n",
    "num_f = ['age_of_respondent']"
   ]
  },
  {
   "cell_type": "code",
   "execution_count": 38,
   "metadata": {},
   "outputs": [],
   "source": [
    "from sklearn.impute import SimpleImputer\n",
    "from sklearn.preprocessing import StandardScaler,OneHotEncoder,OrdinalEncoder\n",
    "from sklearn.pipeline import Pipeline\n",
    "from sklearn.compose import ColumnTransformer"
   ]
  },
  {
   "cell_type": "code",
   "execution_count": 39,
   "metadata": {},
   "outputs": [],
   "source": [
    "numeric_transformer = Pipeline(steps=[\n",
    "    #('imputer', SimpleImputer(strategy='median')),\n",
    "    ('scaler', StandardScaler())\n",
    "])\n",
    "categorical_1hot_transformer = Pipeline(steps=[\n",
    "    #('imputer', SimpleImputer(strategy='constant', fill_value='missing')),\n",
    "    ('onehot', OneHotEncoder(handle_unknown='ignore'))\n",
    "])\n",
    "categorical_ord_transformer = Pipeline(steps=[\n",
    "    #('imputer', SimpleImputer(strategy='constant', fill_value='missing')),\n",
    "    ('ord', OrdinalEncoder())\n",
    "])\n",
    "preprocessor = ColumnTransformer(transformers=[\n",
    "    ('num', numeric_transformer, num_f),\n",
    "    ('onehot',categorical_1hot_transformer,cat_1hot_f),\n",
    "    #('ord', categorical_ord_transformer, cat_ord_f)\n",
    "])\n",
    "#X = full_pipeline.fit_transform(x) "
   ]
  },
  {
   "cell_type": "code",
   "execution_count": 40,
   "metadata": {},
   "outputs": [
    {
     "data": {
      "text/plain": [
       "ColumnTransformer(transformers=[('num',\n",
       "                                 Pipeline(steps=[('scaler', StandardScaler())]),\n",
       "                                 ['age_of_respondent']),\n",
       "                                ('onehot',\n",
       "                                 Pipeline(steps=[('onehot',\n",
       "                                                  OneHotEncoder(handle_unknown='ignore'))]),\n",
       "                                 ['country', 'year', 'location_type',\n",
       "                                  'cellphone_access', 'household_size',\n",
       "                                  'gender_of_respondent',\n",
       "                                  'relationship_with_head', 'marital_status',\n",
       "                                  'education_level', 'job_type'])])"
      ]
     },
     "execution_count": 40,
     "metadata": {},
     "output_type": "execute_result"
    }
   ],
   "source": [
    "preprocessor.fit(xtrain_final)"
   ]
  },
  {
   "cell_type": "code",
   "execution_count": 41,
   "metadata": {},
   "outputs": [],
   "source": [
    "X_train = preprocessor.transform(xtrain_final)\n",
    "X_test = preprocessor.transform(xtest_final)\n",
    "comp_test = preprocessor.transform(test_final)"
   ]
  },
  {
   "cell_type": "code",
   "execution_count": 42,
   "metadata": {},
   "outputs": [
    {
     "data": {
      "text/plain": [
       "((16466, 60), (7058, 60), (10086, 60))"
      ]
     },
     "execution_count": 42,
     "metadata": {},
     "output_type": "execute_result"
    }
   ],
   "source": [
    "X_train.shape,X_test.shape,comp_test.shape"
   ]
  },
  {
   "cell_type": "code",
   "execution_count": 43,
   "metadata": {},
   "outputs": [],
   "source": [
    "y_train,y_test = ytrain,ytest"
   ]
  },
  {
   "cell_type": "markdown",
   "metadata": {},
   "source": [
    "# 11.Feature Importance <a class='nkybz' id='11'></a>\n",
    "[Back to Table of Content](#TOC)"
   ]
  },
  {
   "cell_type": "code",
   "execution_count": 44,
   "metadata": {},
   "outputs": [],
   "source": [
    "from sklearn.model_selection import GridSearchCV\n",
    "from sklearn.model_selection import cross_val_predict\n",
    "from sklearn.model_selection import cross_val_score\n",
    "from sklearn.model_selection import train_test_split\n",
    "from sklearn.preprocessing import StandardScaler\n",
    "from sklearn.metrics import roc_auc_score\n",
    "\n",
    "import lightgbm as lgb\n",
    "from lightgbm import LGBMClassifier\n",
    "import xgboost as xgb\n",
    "from xgboost import XGBClassifier\n",
    "from catboost import CatBoostClassifier\n",
    "from sklearn.ensemble import  ExtraTreesClassifier\n",
    "from sklearn.tree import DecisionTreeClassifier\n",
    "from sklearn.linear_model import LogisticRegression\n",
    "from sklearn.tree import DecisionTreeClassifier\n",
    "from sklearn.ensemble import  ExtraTreesClassifier,RandomForestClassifier,GradientBoostingClassifier\n",
    "from sklearn.linear_model import LogisticRegression"
   ]
  },
  {
   "cell_type": "code",
   "execution_count": 45,
   "metadata": {},
   "outputs": [],
   "source": [
    "from sklearn.model_selection import KFold\n",
    "from sklearn.model_selection import cross_val_score\n",
    "kf = KFold(n_splits=5,shuffle=False)"
   ]
  },
  {
   "cell_type": "code",
   "execution_count": 46,
   "metadata": {},
   "outputs": [],
   "source": [
    "from sklearn.ensemble import  ExtraTreesClassifier,RandomForestClassifier"
   ]
  },
  {
   "cell_type": "code",
   "execution_count": 47,
   "metadata": {},
   "outputs": [
    {
     "data": {
      "text/plain": [
       "RandomForestClassifier(random_state=2022)"
      ]
     },
     "execution_count": 47,
     "metadata": {},
     "output_type": "execute_result"
    }
   ],
   "source": [
    "rf=RandomForestClassifier(random_state=2022)\n",
    "rf.fit(X_train,y_train)"
   ]
  },
  {
   "cell_type": "code",
   "execution_count": 48,
   "metadata": {},
   "outputs": [
    {
     "name": "stdout",
     "output_type": "stream",
     "text": [
      "RF train accuracy: 0.983\n",
      "RF test accuracy: 0.861\n"
     ]
    }
   ],
   "source": [
    "print(\"RF train accuracy: %0.3f\" % rf.score(X_train, y_train))\n",
    "print(\"RF test accuracy: %0.3f\" % rf.score(X_test, y_test))"
   ]
  },
  {
   "cell_type": "code",
   "execution_count": 49,
   "metadata": {
    "scrolled": true
   },
   "outputs": [
    {
     "data": {
      "text/plain": [
       "[(0.3305927185827329, 'age_of_respondent'),\n",
       " (0.020895780054662784, 'marital_status'),\n",
       " (0.019991584753095332, 'education_level'),\n",
       " (0.017154779979870645, 'country'),\n",
       " (0.017033896052064592, 'job_type'),\n",
       " (0.008164963784783407, 'gender_of_respondent'),\n",
       " (0.008055998284814457, 'relationship_with_head'),\n",
       " (0.007732914512721107, 'location_type'),\n",
       " (0.006393525933769575, 'year'),\n",
       " (0.0063438451332852135, 'cellphone_access'),\n",
       " (0.005935229301365571, 'household_size')]"
      ]
     },
     "execution_count": 49,
     "metadata": {},
     "output_type": "execute_result"
    }
   ],
   "source": [
    "feature_importances = rf.feature_importances_\n",
    "num_attribs = list(num_f)\n",
    "cat_1hot_attribs = list(cat_1hot_f)\n",
    "#cat_ord_attribs = list(cat_ord_f)\n",
    "attributes = num_attribs + cat_1hot_attribs #+ cat_ord_attribs\n",
    "sorted(zip(feature_importances, attributes), reverse=True)"
   ]
  },
  {
   "cell_type": "code",
   "execution_count": null,
   "metadata": {},
   "outputs": [],
   "source": []
  },
  {
   "cell_type": "code",
   "execution_count": 50,
   "metadata": {},
   "outputs": [
    {
     "data": {
      "text/plain": [
       "LGBMClassifier(random_state=42)"
      ]
     },
     "execution_count": 50,
     "metadata": {},
     "output_type": "execute_result"
    }
   ],
   "source": [
    "lait = lgb.LGBMClassifier(random_state=42)\n",
    "lait.fit(X_train,y_train)"
   ]
  },
  {
   "cell_type": "code",
   "execution_count": 51,
   "metadata": {},
   "outputs": [
    {
     "name": "stdout",
     "output_type": "stream",
     "text": [
      "lait train accuracy: 0.902\n",
      "lait test accuracy: 0.888\n"
     ]
    }
   ],
   "source": [
    "print(\"lait train accuracy: %0.3f\" % lait.score(X_train, y_train))\n",
    "print(\"lait test accuracy: %0.3f\" % lait.score(X_test, y_test))"
   ]
  },
  {
   "cell_type": "code",
   "execution_count": 52,
   "metadata": {},
   "outputs": [
    {
     "data": {
      "text/plain": [
       "[(932, 'age_of_respondent'),\n",
       " (146, 'marital_status'),\n",
       " (88, 'location_type'),\n",
       " (84, 'country'),\n",
       " (57, 'job_type'),\n",
       " (55, 'year'),\n",
       " (49, 'cellphone_access'),\n",
       " (33, 'relationship_with_head'),\n",
       " (25, 'education_level'),\n",
       " (0, 'household_size'),\n",
       " (0, 'gender_of_respondent')]"
      ]
     },
     "execution_count": 52,
     "metadata": {},
     "output_type": "execute_result"
    }
   ],
   "source": [
    "feature_importances_lait = lait.feature_importances_\n",
    "sorted(zip(feature_importances_lait, attributes), reverse=True)"
   ]
  },
  {
   "cell_type": "code",
   "execution_count": null,
   "metadata": {},
   "outputs": [],
   "source": []
  },
  {
   "cell_type": "code",
   "execution_count": 53,
   "metadata": {},
   "outputs": [
    {
     "data": {
      "image/png": "[encoded data removed]",
      "text/plain": [
       "<Figure size 1080x1080 with 1 Axes>"
      ]
     },
     "metadata": {},
     "output_type": "display_data"
    }
   ],
   "source": [
    "# FI diagram drawing\n",
    "fig =  plt.figure(figsize = (15,15))\n",
    "axes = fig.add_subplot(111)\n",
    "lgb.plot_importance(lait,ax = axes,height = 0.5)\n",
    "#plt.savefig('important_features_lait_roundmissForest_NAfe1.png')\n",
    "#plt.close()\n",
    "plt.show()"
   ]
  },
  {
   "cell_type": "code",
   "execution_count": 54,
   "metadata": {},
   "outputs": [
    {
     "name": "stdout",
     "output_type": "stream",
     "text": [
      "[14:21:53] WARNING: C:/Users/Administrator/workspace/xgboost-win64_release_1.3.0/src/learner.cc:1061: Starting in XGBoost 1.3.0, the default evaluation metric used with the objective 'binary:logistic' was changed from 'error' to 'logloss'. Explicitly set eval_metric if you'd like to restore the old behavior.\n"
     ]
    },
    {
     "data": {
      "text/plain": [
       "XGBClassifier(base_score=0.5, booster='gbtree', colsample_bylevel=1,\n",
       "              colsample_bynode=1, colsample_bytree=1, gamma=0, gpu_id=-1,\n",
       "              importance_type='gain', interaction_constraints='',\n",
       "              learning_rate=0.300000012, max_delta_step=0, max_depth=6,\n",
       "              min_child_weight=1, missing=nan, monotone_constraints='()',\n",
       "              n_estimators=100, n_jobs=-1, num_parallel_tree=1, random_state=42,\n",
       "              reg_alpha=0, reg_lambda=1, scale_pos_weight=1, subsample=1,\n",
       "              tree_method='exact', validate_parameters=1, verbosity=None)"
      ]
     },
     "execution_count": 54,
     "metadata": {},
     "output_type": "execute_result"
    }
   ],
   "source": [
    "xgbc = xgb.XGBClassifier(random_state=42,n_jobs=-1)\n",
    "xgbc.fit(X_train,y_train)"
   ]
  },
  {
   "cell_type": "code",
   "execution_count": 55,
   "metadata": {},
   "outputs": [
    {
     "name": "stdout",
     "output_type": "stream",
     "text": [
      "xgb train accuracy: 0.919\n",
      "xgb test accuracy: 0.885\n"
     ]
    }
   ],
   "source": [
    "print(\"xgb train accuracy: %0.3f\" % xgbc.score(X_train, y_train))\n",
    "print(\"xgb test accuracy: %0.3f\" % xgbc.score(X_test, y_test))"
   ]
  },
  {
   "cell_type": "code",
   "execution_count": 56,
   "metadata": {},
   "outputs": [
    {
     "data": {
      "text/plain": [
       "[(0.11869131, 'job_type'),\n",
       " (0.032492194, 'location_type'),\n",
       " (0.022231087, 'cellphone_access'),\n",
       " (0.02073022, 'country'),\n",
       " (0.016846096, 'marital_status'),\n",
       " (0.013263979, 'year'),\n",
       " (0.011063587, 'age_of_respondent'),\n",
       " (0.007364172, 'relationship_with_head'),\n",
       " (0.0, 'household_size'),\n",
       " (0.0, 'gender_of_respondent'),\n",
       " (0.0, 'education_level')]"
      ]
     },
     "execution_count": 56,
     "metadata": {},
     "output_type": "execute_result"
    }
   ],
   "source": [
    "feature_importances_xgb = xgbc.feature_importances_\n",
    "sorted(zip(feature_importances_xgb, attributes), reverse=True)"
   ]
  },
  {
   "cell_type": "code",
   "execution_count": null,
   "metadata": {},
   "outputs": [],
   "source": []
  },
  {
   "cell_type": "code",
   "execution_count": 57,
   "metadata": {},
   "outputs": [
    {
     "data": {
      "image/png": "[encoded data removed]",
      "text/plain": [
       "<Figure size 1080x1080 with 1 Axes>"
      ]
     },
     "metadata": {},
     "output_type": "display_data"
    }
   ],
   "source": [
    "# FI diagram drawing\n",
    "fig =  plt.figure(figsize = (15,15))\n",
    "axes = fig.add_subplot(111)\n",
    "xgb.plot_importance(xgbc,ax = axes,height = 0.5)\n",
    "#plt.savefig('important_features_xgb_roundmissForest_NAfe1.png')\n",
    "#plt.close()\n",
    "plt.show();"
   ]
  },
  {
   "cell_type": "code",
   "execution_count": null,
   "metadata": {},
   "outputs": [],
   "source": []
  },
  {
   "cell_type": "markdown",
   "metadata": {},
   "source": [
    "# 12.Modeling <a class='nkybz' id='12'></a>\n",
    "[Back to Table of Content](#TOC)"
   ]
  },
  {
   "cell_type": "code",
   "execution_count": null,
   "metadata": {},
   "outputs": [],
   "source": []
  },
  {
   "cell_type": "code",
   "execution_count": 58,
   "metadata": {},
   "outputs": [],
   "source": [
    "lj = LogisticRegression(solver=\"liblinear\").fit(X_train,y_train)#,class_weight={1:80,0:20}"
   ]
  },
  {
   "cell_type": "code",
   "execution_count": 59,
   "metadata": {},
   "outputs": [
    {
     "name": "stdout",
     "output_type": "stream",
     "text": [
      "[14:24:41] WARNING: C:/Users/Administrator/workspace/xgboost-win64_release_1.3.0/src/learner.cc:1061: Starting in XGBoost 1.3.0, the default evaluation metric used with the objective 'binary:logistic' was changed from 'error' to 'logloss'. Explicitly set eval_metric if you'd like to restore the old behavior.\n",
      "Wall time: 5min 18s\n"
     ]
    }
   ],
   "source": [
    "%%time\n",
    "lj = LogisticRegression(solver=\"liblinear\").fit(X_train,y_train)#,class_weight={1:80,0:20}\n",
    "#gnb = GaussianNB().fit(X_train,y_train)\n",
    "#knnc = KNeighborsClassifier().fit(X_train,y_train)\n",
    "dtc = DecisionTreeClassifier(random_state=42).fit(X_train,y_train)#,class_weight={1:80,0:20}\n",
    "rfc = RandomForestClassifier(random_state=42,verbose=False).fit(X_train,y_train)#,class_weight={1:80,0:20}\n",
    "gbmc = GradientBoostingClassifier(verbose=False,subsample=0.4).fit(X_train,y_train)\n",
    "ext = ExtraTreesClassifier(n_jobs =-1,random_state=42).fit(X_train,y_train)\n",
    "xgbc = XGBClassifier(subsample=0.4,random_state=42).fit(X_train,y_train)#,scale_pos_weight=75\n",
    "lgbmc = LGBMClassifier(subsample=0.4,random_state=42).fit(X_train,y_train)#,class_weight={1:80,0:20}\n",
    "catbc = CatBoostClassifier(verbose=False,random_state=42,subsample=0.4).fit(X_train,y_train)#,scale_pos_weight=75"
   ]
  },
  {
   "cell_type": "code",
   "execution_count": null,
   "metadata": {},
   "outputs": [],
   "source": []
  },
  {
   "cell_type": "code",
   "execution_count": 60,
   "metadata": {},
   "outputs": [
    {
     "name": "stdout",
     "output_type": "stream",
     "text": [
      "LogisticRegression: \n",
      "AUC: 0.8545255703083939\n",
      "==============================\n",
      "DecisionTreeClassifier: \n",
      "AUC: 0.6500159432850401\n",
      "==============================\n",
      "RandomForestClassifier: \n",
      "AUC: 0.812480589340794\n",
      "==============================\n",
      "GradientBoostingClassifier: \n",
      "AUC: 0.8548387953048104\n",
      "==============================\n",
      "ExtraTreesClassifier: \n",
      "AUC: 0.7798686910380488\n",
      "==============================\n",
      "LGBMClassifier: \n",
      "AUC: 0.8418012195866492\n",
      "==============================\n",
      "CatBoostClassifier: \n",
      "AUC: 0.8573032854116786\n",
      "==============================\n",
      "[14:37:00] WARNING: C:/Users/Administrator/workspace/xgboost-win64_release_1.3.0/src/learner.cc:1061: Starting in XGBoost 1.3.0, the default evaluation metric used with the objective 'binary:logistic' was changed from 'error' to 'logloss'. Explicitly set eval_metric if you'd like to restore the old behavior.\n",
      "[14:37:03] WARNING: C:/Users/Administrator/workspace/xgboost-win64_release_1.3.0/src/learner.cc:1061: Starting in XGBoost 1.3.0, the default evaluation metric used with the objective 'binary:logistic' was changed from 'error' to 'logloss'. Explicitly set eval_metric if you'd like to restore the old behavior.\n",
      "[14:37:06] WARNING: C:/Users/Administrator/workspace/xgboost-win64_release_1.3.0/src/learner.cc:1061: Starting in XGBoost 1.3.0, the default evaluation metric used with the objective 'binary:logistic' was changed from 'error' to 'logloss'. Explicitly set eval_metric if you'd like to restore the old behavior.\n",
      "XGBClassifier: \n",
      "AUC: 0.8172587636637768\n",
      "==============================\n",
      "Wall time: 9min 15s\n",
      "Compiler : 410 ms\n",
      "Parser   : 2.27 s\n"
     ]
    }
   ],
   "source": [
    "%%time\n",
    "modelsc = [lj,dtc,rfc,gbmc,ext,lgbmc,catbc,xgbc]#,gnb,knnc\n",
    "for model in modelsc:\n",
    "    name = model.__class__.__name__\n",
    "    y_pred = model.predict_proba(X_test)[:,1]\n",
    "    y_proba = cross_val_predict(model,X_test,y_test,cv=3,method=\"predict_proba\")\n",
    "    y_score = y_proba[:,1]\n",
    "    AreaUnderCurve =roc_auc_score(y_test,y_score)\n",
    "    print(name + \": \")\n",
    "    print(\"AUC:\",roc_auc_score(y_test,y_score))\n",
    "    print(\"=\" * 30)"
   ]
  },
  {
   "cell_type": "markdown",
   "metadata": {},
   "source": [
    "####  %%time or \n",
    "import time\n",
    "start_time = time.time()\n",
    "print('Start time:', time.strftime(\"%H:%M:%S\",time.gmtime(start_time)))\n",
    "\n",
    "### ... code.... some cells\n",
    "\n",
    "second_time = time.time() - start_time\n",
    "print('Time Taken:', time.strftime(\"%H:%M:%S\",time.gmtime(second_time)))"
   ]
  },
  {
   "cell_type": "code",
   "execution_count": null,
   "metadata": {},
   "outputs": [],
   "source": []
  },
  {
   "cell_type": "code",
   "execution_count": null,
   "metadata": {},
   "outputs": [],
   "source": []
  },
  {
   "cell_type": "code",
   "execution_count": null,
   "metadata": {},
   "outputs": [],
   "source": []
  },
  {
   "cell_type": "markdown",
   "metadata": {},
   "source": [
    "# Grid Search"
   ]
  },
  {
   "cell_type": "markdown",
   "metadata": {},
   "source": [
    "##### \n",
    "%%time\n",
    "estimator_lait = lgb.LGBMClassifier(\n",
    "  n_jobs=-1,random_state=42,metric='auc',subsample=0.1)\n",
    "params_grid={\n",
    "    'boosting_type':['gbdt','goss','rf'],\n",
    "    'learning_rate':[0.111,0.1,0.15],\n",
    "    'scale_pos_weight':[99,95,97,80],\n",
    "    'max_depth':[5,10,15],\n",
    "    'num_leaves':[150,90,50],\n",
    "    'min_child_samples':[20,30]\n",
    "}\n",
    "gridsearch_estimator_lait = GridSearchCV(estimator_lait,params_grid)\n",
    "gridsearch_estimator_lait.fit(X_train,y_train,\n",
    "                             eval_metric='auc',\n",
    "                             eval_set=[(X_val,y_val)],early_stopping_rounds=5)\n",
    "gridsearch_estimator_lait.best_params_"
   ]
  },
  {
   "cell_type": "markdown",
   "metadata": {},
   "source": [
    "lait = lgb.LGBMClassifier(learning_rate=0.111,max_depth=15,min_child_samples=20, n_estimators=30,num_leaves= 90,\n",
    "                          scale_pos_weight= 97,\n",
    "metric=\"auc\" ,subsample=0.1)\n",
    "lait.fit(X_train,y_train,eval_metric=\"auc\",\n",
    "        eval_set=[(X_val,y_val)],\n",
    "        early_stopping_rounds=5)"
   ]
  },
  {
   "cell_type": "code",
   "execution_count": null,
   "metadata": {},
   "outputs": [],
   "source": []
  },
  {
   "cell_type": "code",
   "execution_count": 61,
   "metadata": {},
   "outputs": [
    {
     "data": {
      "text/plain": [
       "((10086, 60), (10086, 12))"
      ]
     },
     "execution_count": 61,
     "metadata": {},
     "output_type": "execute_result"
    }
   ],
   "source": [
    "comp_test.shape,test.shape"
   ]
  },
  {
   "cell_type": "code",
   "execution_count": 62,
   "metadata": {},
   "outputs": [],
   "source": [
    "sub = test.index.to_frame()\n",
    "sub['Target']=0"
   ]
  },
  {
   "cell_type": "code",
   "execution_count": 63,
   "metadata": {},
   "outputs": [
    {
     "data": {
      "text/html": [
       "<div>\n",
       "<style scoped>\n",
       "    .dataframe tbody tr th:only-of-type {\n",
       "        vertical-align: middle;\n",
       "    }\n",
       "\n",
       "    .dataframe tbody tr th {\n",
       "        vertical-align: top;\n",
       "    }\n",
       "\n",
       "    .dataframe thead th {\n",
       "        text-align: right;\n",
       "    }\n",
       "</style>\n",
       "<table border=\"1\" class=\"dataframe\">\n",
       "  <thead>\n",
       "    <tr style=\"text-align: right;\">\n",
       "      <th></th>\n",
       "      <th>uniqueid</th>\n",
       "      <th>Target</th>\n",
       "    </tr>\n",
       "    <tr>\n",
       "      <th>uniqueid</th>\n",
       "      <th></th>\n",
       "      <th></th>\n",
       "    </tr>\n",
       "  </thead>\n",
       "  <tbody>\n",
       "    <tr>\n",
       "      <th>uniqueid_6056 x Kenya</th>\n",
       "      <td>uniqueid_6056 x Kenya</td>\n",
       "      <td>0</td>\n",
       "    </tr>\n",
       "    <tr>\n",
       "      <th>uniqueid_6060 x Kenya</th>\n",
       "      <td>uniqueid_6060 x Kenya</td>\n",
       "      <td>0</td>\n",
       "    </tr>\n",
       "    <tr>\n",
       "      <th>uniqueid_6065 x Kenya</th>\n",
       "      <td>uniqueid_6065 x Kenya</td>\n",
       "      <td>0</td>\n",
       "    </tr>\n",
       "    <tr>\n",
       "      <th>uniqueid_6072 x Kenya</th>\n",
       "      <td>uniqueid_6072 x Kenya</td>\n",
       "      <td>0</td>\n",
       "    </tr>\n",
       "    <tr>\n",
       "      <th>uniqueid_6073 x Kenya</th>\n",
       "      <td>uniqueid_6073 x Kenya</td>\n",
       "      <td>0</td>\n",
       "    </tr>\n",
       "  </tbody>\n",
       "</table>\n",
       "</div>"
      ],
      "text/plain": [
       "                                    uniqueid  Target\n",
       "uniqueid                                            \n",
       "uniqueid_6056 x Kenya  uniqueid_6056 x Kenya       0\n",
       "uniqueid_6060 x Kenya  uniqueid_6060 x Kenya       0\n",
       "uniqueid_6065 x Kenya  uniqueid_6065 x Kenya       0\n",
       "uniqueid_6072 x Kenya  uniqueid_6072 x Kenya       0\n",
       "uniqueid_6073 x Kenya  uniqueid_6073 x Kenya       0"
      ]
     },
     "execution_count": 63,
     "metadata": {},
     "output_type": "execute_result"
    }
   ],
   "source": [
    "sub.head()"
   ]
  },
  {
   "cell_type": "code",
   "execution_count": null,
   "metadata": {},
   "outputs": [],
   "source": []
  },
  {
   "cell_type": "code",
   "execution_count": 64,
   "metadata": {},
   "outputs": [],
   "source": [
    "#lj ,catbc"
   ]
  },
  {
   "cell_type": "code",
   "execution_count": 65,
   "metadata": {},
   "outputs": [
    {
     "data": {
      "text/html": [
       "<div>\n",
       "<style scoped>\n",
       "    .dataframe tbody tr th:only-of-type {\n",
       "        vertical-align: middle;\n",
       "    }\n",
       "\n",
       "    .dataframe tbody tr th {\n",
       "        vertical-align: top;\n",
       "    }\n",
       "\n",
       "    .dataframe thead th {\n",
       "        text-align: right;\n",
       "    }\n",
       "</style>\n",
       "<table border=\"1\" class=\"dataframe\">\n",
       "  <thead>\n",
       "    <tr style=\"text-align: right;\">\n",
       "      <th></th>\n",
       "      <th>bank_account</th>\n",
       "    </tr>\n",
       "  </thead>\n",
       "  <tbody>\n",
       "    <tr>\n",
       "      <th>0</th>\n",
       "      <td>1</td>\n",
       "    </tr>\n",
       "    <tr>\n",
       "      <th>1</th>\n",
       "      <td>1</td>\n",
       "    </tr>\n",
       "    <tr>\n",
       "      <th>2</th>\n",
       "      <td>0</td>\n",
       "    </tr>\n",
       "    <tr>\n",
       "      <th>3</th>\n",
       "      <td>0</td>\n",
       "    </tr>\n",
       "    <tr>\n",
       "      <th>4</th>\n",
       "      <td>0</td>\n",
       "    </tr>\n",
       "  </tbody>\n",
       "</table>\n",
       "</div>"
      ],
      "text/plain": [
       "   bank_account\n",
       "0             1\n",
       "1             1\n",
       "2             0\n",
       "3             0\n",
       "4             0"
      ]
     },
     "execution_count": 65,
     "metadata": {},
     "output_type": "execute_result"
    }
   ],
   "source": [
    "preds_lait = catbc.predict(comp_test)\n",
    "preds_lait = pd.DataFrame(preds_lait)#,index=test.index)\n",
    "preds_lait = preds_lait.rename(columns={0:\"bank_account\"}).replace({\"Yes\":1,\"No\":0})\n",
    "preds_lait.head()"
   ]
  },
  {
   "cell_type": "code",
   "execution_count": 66,
   "metadata": {},
   "outputs": [
    {
     "data": {
      "text/plain": [
       "0    9347\n",
       "1     739\n",
       "Name: bank_account, dtype: int64"
      ]
     },
     "metadata": {},
     "output_type": "display_data"
    }
   ],
   "source": [
    "preds_lait.shape,sub.shape\n",
    "display(preds_lait['bank_account'].value_counts())"
   ]
  },
  {
   "cell_type": "code",
   "execution_count": 67,
   "metadata": {},
   "outputs": [
    {
     "data": {
      "text/html": [
       "<div>\n",
       "<style scoped>\n",
       "    .dataframe tbody tr th:only-of-type {\n",
       "        vertical-align: middle;\n",
       "    }\n",
       "\n",
       "    .dataframe tbody tr th {\n",
       "        vertical-align: top;\n",
       "    }\n",
       "\n",
       "    .dataframe thead th {\n",
       "        text-align: right;\n",
       "    }\n",
       "</style>\n",
       "<table border=\"1\" class=\"dataframe\">\n",
       "  <thead>\n",
       "    <tr style=\"text-align: right;\">\n",
       "      <th></th>\n",
       "      <th>country</th>\n",
       "      <th>year</th>\n",
       "      <th>location_type</th>\n",
       "      <th>cellphone_access</th>\n",
       "      <th>household_size</th>\n",
       "      <th>age_of_respondent</th>\n",
       "      <th>gender_of_respondent</th>\n",
       "      <th>relationship_with_head</th>\n",
       "      <th>marital_status</th>\n",
       "      <th>education_level</th>\n",
       "      <th>job_type</th>\n",
       "      <th>Target</th>\n",
       "    </tr>\n",
       "    <tr>\n",
       "      <th>uniqueid</th>\n",
       "      <th></th>\n",
       "      <th></th>\n",
       "      <th></th>\n",
       "      <th></th>\n",
       "      <th></th>\n",
       "      <th></th>\n",
       "      <th></th>\n",
       "      <th></th>\n",
       "      <th></th>\n",
       "      <th></th>\n",
       "      <th></th>\n",
       "      <th></th>\n",
       "    </tr>\n",
       "  </thead>\n",
       "  <tbody>\n",
       "    <tr>\n",
       "      <th>uniqueid_6056 x Kenya</th>\n",
       "      <td>Kenya</td>\n",
       "      <td>2018</td>\n",
       "      <td>Urban</td>\n",
       "      <td>Yes</td>\n",
       "      <td>3</td>\n",
       "      <td>30</td>\n",
       "      <td>Male</td>\n",
       "      <td>Head of Household</td>\n",
       "      <td>Married/Living together</td>\n",
       "      <td>Secondary education</td>\n",
       "      <td>Formally employed Government</td>\n",
       "      <td>0</td>\n",
       "    </tr>\n",
       "    <tr>\n",
       "      <th>uniqueid_6060 x Kenya</th>\n",
       "      <td>Kenya</td>\n",
       "      <td>2018</td>\n",
       "      <td>Urban</td>\n",
       "      <td>Yes</td>\n",
       "      <td>7</td>\n",
       "      <td>51</td>\n",
       "      <td>Male</td>\n",
       "      <td>Head of Household</td>\n",
       "      <td>Married/Living together</td>\n",
       "      <td>Vocational/Specialised training</td>\n",
       "      <td>Formally employed Private</td>\n",
       "      <td>0</td>\n",
       "    </tr>\n",
       "  </tbody>\n",
       "</table>\n",
       "</div>"
      ],
      "text/plain": [
       "                      country  year location_type cellphone_access  \\\n",
       "uniqueid                                                             \n",
       "uniqueid_6056 x Kenya   Kenya  2018         Urban              Yes   \n",
       "uniqueid_6060 x Kenya   Kenya  2018         Urban              Yes   \n",
       "\n",
       "                       household_size  age_of_respondent gender_of_respondent  \\\n",
       "uniqueid                                                                        \n",
       "uniqueid_6056 x Kenya               3                 30                 Male   \n",
       "uniqueid_6060 x Kenya               7                 51                 Male   \n",
       "\n",
       "                      relationship_with_head           marital_status  \\\n",
       "uniqueid                                                                \n",
       "uniqueid_6056 x Kenya      Head of Household  Married/Living together   \n",
       "uniqueid_6060 x Kenya      Head of Household  Married/Living together   \n",
       "\n",
       "                                       education_level  \\\n",
       "uniqueid                                                 \n",
       "uniqueid_6056 x Kenya              Secondary education   \n",
       "uniqueid_6060 x Kenya  Vocational/Specialised training   \n",
       "\n",
       "                                           job_type  Target  \n",
       "uniqueid                                                     \n",
       "uniqueid_6056 x Kenya  Formally employed Government       0  \n",
       "uniqueid_6060 x Kenya     Formally employed Private       0  "
      ]
     },
     "execution_count": 67,
     "metadata": {},
     "output_type": "execute_result"
    }
   ],
   "source": [
    "#test = test.reset_index()\n",
    "test.head(2)"
   ]
  },
  {
   "cell_type": "code",
   "execution_count": null,
   "metadata": {},
   "outputs": [],
   "source": []
  },
  {
   "cell_type": "code",
   "execution_count": null,
   "metadata": {},
   "outputs": [],
   "source": []
  },
  {
   "cell_type": "code",
   "execution_count": 69,
   "metadata": {},
   "outputs": [
    {
     "data": {
      "text/html": [
       "<div>\n",
       "<style scoped>\n",
       "    .dataframe tbody tr th:only-of-type {\n",
       "        vertical-align: middle;\n",
       "    }\n",
       "\n",
       "    .dataframe tbody tr th {\n",
       "        vertical-align: top;\n",
       "    }\n",
       "\n",
       "    .dataframe thead th {\n",
       "        text-align: right;\n",
       "    }\n",
       "</style>\n",
       "<table border=\"1\" class=\"dataframe\">\n",
       "  <thead>\n",
       "    <tr style=\"text-align: right;\">\n",
       "      <th></th>\n",
       "      <th>bank_account</th>\n",
       "      <th>uniqueid</th>\n",
       "    </tr>\n",
       "  </thead>\n",
       "  <tbody>\n",
       "    <tr>\n",
       "      <th>0</th>\n",
       "      <td>1</td>\n",
       "      <td>uniqueid_6056 x Kenya</td>\n",
       "    </tr>\n",
       "    <tr>\n",
       "      <th>1</th>\n",
       "      <td>1</td>\n",
       "      <td>uniqueid_6060 x Kenya</td>\n",
       "    </tr>\n",
       "    <tr>\n",
       "      <th>2</th>\n",
       "      <td>0</td>\n",
       "      <td>uniqueid_6065 x Kenya</td>\n",
       "    </tr>\n",
       "    <tr>\n",
       "      <th>3</th>\n",
       "      <td>0</td>\n",
       "      <td>uniqueid_6072 x Kenya</td>\n",
       "    </tr>\n",
       "    <tr>\n",
       "      <th>4</th>\n",
       "      <td>0</td>\n",
       "      <td>uniqueid_6073 x Kenya</td>\n",
       "    </tr>\n",
       "  </tbody>\n",
       "</table>\n",
       "</div>"
      ],
      "text/plain": [
       "   bank_account               uniqueid\n",
       "0             1  uniqueid_6056 x Kenya\n",
       "1             1  uniqueid_6060 x Kenya\n",
       "2             0  uniqueid_6065 x Kenya\n",
       "3             0  uniqueid_6072 x Kenya\n",
       "4             0  uniqueid_6073 x Kenya"
      ]
     },
     "execution_count": 69,
     "metadata": {},
     "output_type": "execute_result"
    }
   ],
   "source": [
    "preds_lait['uniqueid'] = test.index\n",
    "preds_lait.head(5)"
   ]
  },
  {
   "cell_type": "code",
   "execution_count": 70,
   "metadata": {},
   "outputs": [
    {
     "data": {
      "text/html": [
       "<div>\n",
       "<style scoped>\n",
       "    .dataframe tbody tr th:only-of-type {\n",
       "        vertical-align: middle;\n",
       "    }\n",
       "\n",
       "    .dataframe tbody tr th {\n",
       "        vertical-align: top;\n",
       "    }\n",
       "\n",
       "    .dataframe thead th {\n",
       "        text-align: right;\n",
       "    }\n",
       "</style>\n",
       "<table border=\"1\" class=\"dataframe\">\n",
       "  <thead>\n",
       "    <tr style=\"text-align: right;\">\n",
       "      <th></th>\n",
       "      <th>uniqueid</th>\n",
       "      <th>bank_account</th>\n",
       "    </tr>\n",
       "  </thead>\n",
       "  <tbody>\n",
       "    <tr>\n",
       "      <th>0</th>\n",
       "      <td>uniqueid_6056 x Kenya</td>\n",
       "      <td>1</td>\n",
       "    </tr>\n",
       "    <tr>\n",
       "      <th>1</th>\n",
       "      <td>uniqueid_6060 x Kenya</td>\n",
       "      <td>1</td>\n",
       "    </tr>\n",
       "    <tr>\n",
       "      <th>2</th>\n",
       "      <td>uniqueid_6065 x Kenya</td>\n",
       "      <td>0</td>\n",
       "    </tr>\n",
       "    <tr>\n",
       "      <th>3</th>\n",
       "      <td>uniqueid_6072 x Kenya</td>\n",
       "      <td>0</td>\n",
       "    </tr>\n",
       "    <tr>\n",
       "      <th>4</th>\n",
       "      <td>uniqueid_6073 x Kenya</td>\n",
       "      <td>0</td>\n",
       "    </tr>\n",
       "  </tbody>\n",
       "</table>\n",
       "</div>"
      ],
      "text/plain": [
       "                uniqueid  bank_account\n",
       "0  uniqueid_6056 x Kenya             1\n",
       "1  uniqueid_6060 x Kenya             1\n",
       "2  uniqueid_6065 x Kenya             0\n",
       "3  uniqueid_6072 x Kenya             0\n",
       "4  uniqueid_6073 x Kenya             0"
      ]
     },
     "execution_count": 70,
     "metadata": {},
     "output_type": "execute_result"
    }
   ],
   "source": [
    "submission = pd.DataFrame({\n",
    "        \"uniqueid\": preds_lait['uniqueid'],\n",
    "        \"bank_account\": preds_lait['bank_account']\n",
    "    })\n",
    "#submission.to_csv('cat_baseline0_financial_inclusion.csv', index=False)\n",
    "submission.head()"
   ]
  },
  {
   "cell_type": "markdown",
   "metadata": {},
   "source": [
    "# 13.Ensemble <a class='nkybz' id='13'></a>\n",
    "[back to Table of Content](#TOC)"
   ]
  },
  {
   "cell_type": "code",
   "execution_count": null,
   "metadata": {},
   "outputs": [],
   "source": []
  },
  {
   "cell_type": "markdown",
   "metadata": {},
   "source": [
    "# score <a class=\"kibeFinancialInclusionAfrica\" id='score'></a>\n",
    "[Back to Table of Content](#TOC)  \n",
    "**ID** = wWDwN5pu <br>\n",
    "**filename** = cat_baseline0_financial_inclusion.csv<br>\n",
    "**score** = 0.111937338 <br>\n",
    "**time** = 05-Jan-2023 13:52"
   ]
  },
  {
   "cell_type": "markdown",
   "metadata": {},
   "source": [
    "# Next <a class='KibeFinancialInclusionAfrica' id='next'></a>\n",
    "[Back to Table of Content](#TOC)"
   ]
  },
  {
   "cell_type": "markdown",
   "metadata": {},
   "source": [
    "- Include frequency distribution\n",
    "- create submition file\n",
    "- create a subplot for the frequency distribution plot\n",
    "- explore more visualization eg facetgrid, category visualizations\n",
    "- edit the baseline notebook class to \"KibeFinancialInclusionAfrica\"\n",
    "- find how get the names for feature importance plot for light , xgb, \n",
    "- use stratified k folds\n",
    "- interprate the plot plotted\n",
    "- Error analysis  compare the predicted values aganist the actual for test set work with predicted probabilities\n",
    "- Create a baseline 0 financila inclusion in Africa using R\n",
    "- use Mean Absolute Error as the evaluation metric\n",
    "- write a report for the baseline notebook\n",
    "<br>\n",
    "<br>\n",
    "<br>\n",
    "- explore lazy predictor\n",
    "- explore pandas profiling\n"
   ]
  },
  {
   "cell_type": "raw",
   "metadata": {},
   "source": [
    "# include versions of packages used\n",
    "# check other notebooks\n",
    "# how to download notebook as pdf\n",
    "#\"kibeFinancialInclusionAfrica\""
   ]
  }
 ],
 "metadata": {
  "kernelspec": {
   "display_name": "Python 3",
   "language": "python",
   "name": "python3"
  },
  "language_info": {
   "codemirror_mode": {
    "name": "ipython",
    "version": 3
   },
   "file_extension": ".py",
   "mimetype": "text/x-python",
   "name": "python",
   "nbconvert_exporter": "python",
   "pygments_lexer": "ipython3",
   "version": "3.8.3"
  }
 },
 "nbformat": 4,
 "nbformat_minor": 4
}
